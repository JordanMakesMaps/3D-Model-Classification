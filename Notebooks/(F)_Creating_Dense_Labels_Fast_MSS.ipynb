{
 "cells": [
  {
   "cell_type": "markdown",
   "id": "34f63846",
   "metadata": {},
   "source": [
    "#### Notes\n",
    "\n",
    "_With the model's additional sparse labels, we can use Fast-MSS to convert them into dense labels automatically (F). For more information on Fast-MSS, see this (repo)[https://github.com/JordanMakesMaps/Fast-Multilevel-Superpixel-Segmentation]._\n",
    "\n",
    "\"The next step of the workflow converted the accepted sparse labels that were assigned to each image into dense using Fast-MSS (see Pierce et al., 2020 for more details on this method). As the name implies, this algorithm uses multiple iterations of an over-segmentation algorithm to partition the image into homogeneous regions called “super-pixels.” The class category of existing sparse labels for the image are then propagated to neighboring pixels located within the same super-pixel, assigning them labels automatically. This process is repeated for multiple iterations, and then joins all of the labels together to create a set of dense labels for the image representing the pixel-level classifications for each observed functional group (see Figure 3G).\"\n",
    "\n",
    "![alt text](../Figures/getting_dense_labels.png)"
   ]
  },
  {
   "cell_type": "code",
   "execution_count": null,
   "id": "485659a0",
   "metadata": {},
   "outputs": [],
   "source": [
    "import pandas as pd\n",
    "import matplotlib.pyplot as plt\n",
    "\n",
    "# Obtain fast_mss.py Pierce et al., 2020 repo\n",
    "from Fast_MSS import *"
   ]
  },
  {
   "cell_type": "code",
   "execution_count": null,
   "id": "6fde614a",
   "metadata": {},
   "outputs": [],
   "source": [
    "# labels for each class category of interest used for Pierce et al., 2021\n",
    "\n",
    "class_categories = {'Branching' : 0, \n",
    "                      'Fish' : 1, \n",
    "                      'Massive' : 2,\n",
    "                      'Not Massive' : 3,\n",
    "                      'Substrate' : 4,\n",
    "                      'Target' : 5,\n",
    "                      'Water' : 6}"
   ]
  },
  {
   "cell_type": "code",
   "execution_count": null,
   "id": "36f1790b",
   "metadata": {},
   "outputs": [],
   "source": [
    "image_file = \"..\\\\Figures\\\\example_coral_patch.png\"\n",
    "image_name = os.path.basename(image_file).split(\".\")[0]\n",
    "\n",
    "image = plt.imread(image_file)   "
   ]
  },
  {
   "cell_type": "code",
   "execution_count": null,
   "id": "2c4096c3",
   "metadata": {},
   "outputs": [],
   "source": [
    "# Expects the following columns = ['X', 'Y', 'Label']\n",
    "sparse_points = pandas.read_csv(image_name + \"_Sparse_Points.csv\") \n",
    "\n",
    "\n",
    "mask = fast_mss(iamge, sparse_points, list(class_categories), \n",
    "                start_iter = 7500, end_iter = 80, num_iter = 20, method = 'mode')"
   ]
  },
  {
   "cell_type": "code",
   "execution_count": null,
   "id": "32f38f60",
   "metadata": {},
   "outputs": [],
   "source": [
    "plt.figure(figsize=(20,20))\n",
    "plt.subplot(1, 2, 1)\n",
    "plt.imshow(image)\n",
    "\n",
    "plt.subplot(1, 2, 2)\n",
    "plt.imshow(colorize_prediction(mask, list(class_categories)))"
   ]
  }
 ],
 "metadata": {
  "kernelspec": {
   "display_name": "Python [conda env:atr] *",
   "language": "python",
   "name": "conda-env-atr-py"
  },
  "language_info": {
   "codemirror_mode": {
    "name": "ipython",
    "version": 3
   },
   "file_extension": ".py",
   "mimetype": "text/x-python",
   "name": "python",
   "nbconvert_exporter": "python",
   "pygments_lexer": "ipython3",
   "version": "3.6.12"
  }
 },
 "nbformat": 4,
 "nbformat_minor": 5
}
