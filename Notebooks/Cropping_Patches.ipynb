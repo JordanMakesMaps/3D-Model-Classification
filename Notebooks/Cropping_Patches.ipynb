{
 "cells": [
  {
   "cell_type": "code",
   "execution_count": null,
   "metadata": {},
   "outputs": [],
   "source": [
    "def crop_patch(image, y, x):\n",
    "\n",
    "    size = 112\n",
    "    \n",
    "    patch = image[abs(size - y) : abs(size + y), abs(size - x) : abs(size + x), :]\n",
    "    \n",
    "    return patch\n",
    "\n",
    "\n",
    "# if you crop a patch that extends past the border of the image, you're gonna have a bad time\n",
    "def check_dimensions(image, y, x):\n",
    "    \n",
    "    size = 112\n",
    "    \n",
    "    height, width = image.shape[0:2]\n",
    "    if(x + (size//2) > width or x - (size//2) < 0 or y + (size//2) > height or y - (size//2) < 0):\n",
    "        return False\n",
    "    else:\n",
    "        return True\n",
    "    \n",
    "    \n",
    "def create_patches(img, percent):\n",
    "\n",
    "    # creates a grid of points to extract patches from\n",
    "    num_points = int((img.shape[0] * img.shape[1]) * percent)\n",
    "    density = int(np.sqrt(num_points)) \n",
    "\n",
    "    x_, y_ = np.meshgrid(np.linspace(offset, img.shape[1] - offset, int(density)), \n",
    "                         np.linspace(offset, img.shape[0] - offset, int(density)))\n",
    "\n",
    "    xy = np.dstack([x_, y_]).reshape(-1, 2).astype(int)\n",
    "\n",
    "    x = [point[0] for point in xy]\n",
    "    y = [point[1] for point in xy]\n",
    "    \n",
    "    \n",
    "    # extracts patches from images, maybe add check_dimensions() somewhere?\n",
    "    patches = np.array([extract_patch(img, point[0], point[1]) for point in list(zip(x, y))])\n",
    "    \n",
    "    # makes predictions on all patches, stores in predictions\n",
    "    predictions = model.predict(patches)\n",
    "    \n",
    "    # gets all the labels for those predictions, then gets the confidence scores for each one (might be useful)\n",
    "    predicted_labels = [list(labels)[np.argmax(prediction, axis = 0)] for prediction in predictions]\n",
    "    confidence = [sorted(prediction)[-1] - sorted(prediction)[-2] for prediction in predictions]\n",
    "    \n",
    "    \n",
    "    # add a loop that saves all of the patches to some folders, maybe keep the ones with high enough \n",
    "    # confidence scores? Might need to manually sift through the ones that are correct/incorrect or\n",
    "    # ideally, find a ML way to help you automate the process :)\n",
    "\n",
    "    \n",
    "    return sparse_points"
   ]
  }
 ],
 "metadata": {
  "kernelspec": {
   "display_name": "Python 3",
   "language": "python",
   "name": "python3"
  },
  "language_info": {
   "codemirror_mode": {
    "name": "ipython",
    "version": 3
   },
   "file_extension": ".py",
   "mimetype": "text/x-python",
   "name": "python",
   "nbconvert_exporter": "python",
   "pygments_lexer": "ipython3",
   "version": "3.6.12"
  }
 },
 "nbformat": 4,
 "nbformat_minor": 2
}
